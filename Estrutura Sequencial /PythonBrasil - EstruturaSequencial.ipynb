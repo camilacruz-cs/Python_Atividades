{
 "cells": [
  {
   "cell_type": "code",
   "execution_count": null,
   "id": "0f90972a",
   "metadata": {},
   "outputs": [],
   "source": [
    "#Faça um Programa que mostre a mensagem \"Alo mundo\" na tela.\n",
    "\n",
    "print('Hello, world')"
   ]
  },
  {
   "cell_type": "code",
   "execution_count": null,
   "id": "d2707539",
   "metadata": {},
   "outputs": [],
   "source": [
    "#Faça um Programa que peça um número e então mostre a mensagem O número informado foi [número].\n",
    "\n",
    "numero = input(\"Digite aqui o número escolhido: \")\n",
    "numero = int(numero)\n",
    "\n",
    "print('O número informado foi', numero)"
   ]
  },
  {
   "cell_type": "code",
   "execution_count": null,
   "id": "6c67121c",
   "metadata": {},
   "outputs": [],
   "source": [
    "#Faça um Programa que peça dois números e imprima a soma.\n",
    "numero1 = input(\"Por favor, escolha seu primeiro número: \")\n",
    "numero2 = input(\"Agora, escolha o seu segundo número: \")\n",
    "\n",
    "numero1 = int(numero1)\n",
    "numero2 = int(numero2)\n",
    "\n",
    "soma = numero1 + numero2\n",
    "\n",
    "print(soma)"
   ]
  },
  {
   "cell_type": "code",
   "execution_count": null,
   "id": "2c7de3ca",
   "metadata": {},
   "outputs": [],
   "source": [
    "#Faça um Programa que peça as 4 notas bimestrais e mostre a média.\n",
    "\n",
    "bimestre1 = input('Nota primeiro bimestre: ')\n",
    "bimestre2 = input('Nota segundo bimestre: ')\n",
    "bimestre3 = input('Nota terceiro bimestre: ')\n",
    "bimestre4 = input('Nota quarto bimestre: ')\n",
    "\n",
    "bimestre1 = int(bimestre1)\n",
    "bimestre2 = int(bimestre2)\n",
    "bimestre3 = int(bimestre3)\n",
    "bimestre4 = int(bimestre4)\n",
    "\n",
    "media_bimestral = bimestre1 + bimestre2 + bimestre3 + bimestre4\n",
    "\n",
    "media_final = media_bimestral / 4"
   ]
  },
  {
   "cell_type": "code",
   "execution_count": 2,
   "id": "515e7bce",
   "metadata": {},
   "outputs": [
    {
     "name": "stdout",
     "output_type": "stream",
     "text": [
      "Nota primeiro bimestre: 7\n",
      "Nota segundo bimestre: 5\n",
      "Nota terceiro bimestre: 2\n",
      "Nota quarto bimestre: 10\n",
      "Sua média final é de  6.0\n"
     ]
    }
   ],
   "source": [
    "#Faça um Programa que peça as 4 notas bimestrais e mostre a média.\n",
    "\n",
    "bimestre1 = input('Nota primeiro bimestre: ')\n",
    "bimestre2 = input('Nota segundo bimestre: ')\n",
    "bimestre3 = input('Nota terceiro bimestre: ')\n",
    "bimestre4 = input('Nota quarto bimestre: ')\n",
    "\n",
    "bimestre1 = int(bimestre1)\n",
    "bimestre2 = int(bimestre2)\n",
    "bimestre3 = int(bimestre3)\n",
    "bimestre4 = int(bimestre4)\n",
    "\n",
    "media_bimestral = bimestre1 + bimestre2 + bimestre3 + bimestre4\n",
    "\n",
    "media_final = media_bimestral / 4\n",
    "\n",
    "print(\"Sua média final é de \", media_final)"
   ]
  },
  {
   "cell_type": "code",
   "execution_count": 10,
   "id": "a2fc1ea0",
   "metadata": {},
   "outputs": [
    {
     "name": "stdout",
     "output_type": "stream",
     "text": [
      "Insira aqui a quantidade em metros desejadas: 22\n",
      "22.0 metros é igual a 2200.0 centímetros.\n"
     ]
    }
   ],
   "source": [
    "#Faça um Programa que converta metros para centímetros.\n",
    "\n",
    "metros = float(input(\"Insira aqui a quantidade em metros desejadas: \"))\n",
    "\n",
    "centimetro = metros * 100\n",
    "\n",
    "print(f\"{metros} metros é igual a {centimetro} centímetros.\")"
   ]
  },
  {
   "cell_type": "code",
   "execution_count": 11,
   "id": "dc0e978f",
   "metadata": {},
   "outputs": [
    {
     "name": "stdout",
     "output_type": "stream",
     "text": [
      "Insira aqui o valor do raio desejado: 20\n",
      "O valor do 10.0 é: \n"
     ]
    }
   ],
   "source": [
    "#Faça um Programa que peça o raio de um círculo, calcule e mostre sua área.\n",
    "\n",
    "#O raio de um círculo pode ser calculado usando a fórmula matemática padrão. A fórmula é a seguinte:\n",
    "\n",
    "#Raio = Diâmetro / 2\n",
    "\n",
    "raio = float(input(\"Insira aqui o valor do raio desejado: \"))\n",
    "\n",
    "diametro = raio / 2\n",
    "\n",
    "print(f\"O valor do {diametro} \")"
   ]
  },
  {
   "cell_type": "code",
   "execution_count": 13,
   "id": "67ef6886",
   "metadata": {},
   "outputs": [
    {
     "name": "stdout",
     "output_type": "stream",
     "text": [
      "Insira o valor do lado: 4\n",
      "16.0\n"
     ]
    }
   ],
   "source": [
    "#Faça um Programa que calcule a área de um quadrado, em seguida mostre o dobro desta área para o usuário.\n",
    "\n",
    "#Área do Quadrado = Lado x Lado\n",
    "\n",
    "lado_quadrado = float(input(\"Insira o valor do lado: \"))\n",
    "\n",
    "quadrado = lado_quadrado * lado_quadrado\n",
    "\n",
    "print(quadrado)"
   ]
  },
  {
   "cell_type": "code",
   "execution_count": 14,
   "id": "9e6ac383",
   "metadata": {},
   "outputs": [
    {
     "name": "stdout",
     "output_type": "stream",
     "text": [
      "Quanto você ganha por hora? 200\n",
      "Quantas horas você trabalhou no mês? 40\n",
      "O total do seu salário no mês é: R$ 8000.00\n"
     ]
    }
   ],
   "source": [
    "#Faça um Programa que pergunte quanto você ganha por hora e o número de horas trabalhadas no mês. \n",
    "#Calcule e mostre o total do seu salário no referido mês.\n",
    "\n",
    "\n",
    "valor_hora = float(input(\"Quanto você ganha por hora? \"))\n",
    "horas_trabalhadas = float(input(\"Quantas horas você trabalhou no mês? \"))\n",
    "\n",
    "salario_total = valor_hora * horas_trabalhadas\n",
    "\n",
    "print(f\"O total do seu salário no mês é: R$ {salario_total:.2f}\")\n"
   ]
  },
  {
   "cell_type": "code",
   "execution_count": 17,
   "id": "446c13d5",
   "metadata": {},
   "outputs": [
    {
     "name": "stdout",
     "output_type": "stream",
     "text": [
      "Digite a temperatura em graus Fahrenheit: 12\n",
      "A temperatura em graus Celsius é: -11.11°C\n"
     ]
    }
   ],
   "source": [
    "#Faça um Programa que peça a temperatura em graus Fahrenheit, transforme e mostre a temperatura em graus Celsius.\n",
    "#C = 5 * ((F-32) / 9).\n",
    "\n",
    "fahrenheit = float(input(\"Digite a temperatura em graus Fahrenheit: \"))\n",
    "\n",
    "celsius = (fahrenheit - 32) / 1.8\n",
    "\n",
    "print(f\"A temperatura em graus Celsius é: {celsius:.2f}°C\")\n"
   ]
  },
  {
   "cell_type": "code",
   "execution_count": 1,
   "id": "2a21cf97",
   "metadata": {},
   "outputs": [
    {
     "name": "stdout",
     "output_type": "stream",
     "text": [
      "Digite aqui a temperatura em graus celcius20\n",
      "A temperatura em graus Fahrenheit é: -6.67°F\n"
     ]
    }
   ],
   "source": [
    "#Faça um Programa que peça a temperatura em graus Celsius, transforme e mostre em graus Fahrenheit.\n",
    "\n",
    "celsius = float(input(\"Digite aqui a temperatura em graus celcius\"))\n",
    "\n",
    "graus_f = (celsius - 32) / 1.8\n",
    "\n",
    "print(f\"A temperatura em graus Fahrenheit é: {graus_f:.2f}°F\")\n"
   ]
  },
  {
   "cell_type": "code",
   "execution_count": 3,
   "id": "6fc723fe",
   "metadata": {},
   "outputs": [
    {
     "name": "stdout",
     "output_type": "stream",
     "text": [
      "Digite aqui um número inteiro: . Dica: Os números inteiros são números sem frações ou partes decimais10\n",
      "Digite aqui seu segundo número inteiro: 2\n",
      "Digite aqui um número real. Dica: Os números reais podem ter partes decimais.3.5\n",
      "20.0\n",
      "36.0\n",
      "42.875\n"
     ]
    }
   ],
   "source": [
    "#Faça um Programa que peça 2 números inteiros e um número real. Calcule e mostre:\n",
    "#o produto do dobro do primeiro com metade do segundo .\n",
    "#a soma do triplo do primeiro com o terceiro.\n",
    "#o terceiro elevado ao cubo.\n",
    "\n",
    "prod_1 = float(input(\"Digite aqui um número inteiro: . Dica: Os números inteiros são números sem frações ou partes decimais\"))\n",
    "prod_2 = float(input(\"Digite aqui seu segundo número inteiro: \"))\n",
    "prod_3 = float(input(\"Digite aqui um número real. Dica: Os números reais podem ter partes decimais.\"))\n",
    "\n",
    "result_1 = (prod_1 * 2) / (prod_2 / 2)\n",
    "result_2 = (prod_1 + prod_2) * 3\n",
    "result_3 = prod_3 ** 3\n",
    "\n",
    "print(result_1)\n",
    "print(result_2)\n",
    "print(result_3)"
   ]
  },
  {
   "cell_type": "code",
   "execution_count": 7,
   "id": "8e24fbaa",
   "metadata": {},
   "outputs": [
    {
     "name": "stdout",
     "output_type": "stream",
     "text": [
      "Insira aqui sua altura, por favor: 121\n",
      "O peso ideal para a altura de 121.0 metros é 8738.7 quilogramas.\n"
     ]
    }
   ],
   "source": [
    "#Tendo como dados de entrada a altura de uma pessoa, \n",
    "#construa um algoritmo que calcule seu peso ideal, usando a seguinte fórmula: (72.7*altura) - 58\n",
    "\n",
    "altura = float(input(\"Insira aqui sua altura, por favor: \"))\n",
    "\n",
    "calculo_peso = (altura * 72.7) - 58\n",
    "\n",
    "print(\"O peso ideal para a altura de\", altura, \"metros é\", calculo_peso, \"quilogramas.\")\n"
   ]
  },
  {
   "cell_type": "code",
   "execution_count": 8,
   "id": "5b6e1843",
   "metadata": {},
   "outputs": [
    {
     "name": "stdout",
     "output_type": "stream",
     "text": [
      "Insira aqui sua altura em metros: 170\n",
      "Se você for homem seu peso ideal é de 12301.0\n",
      "Se você for mulher seu peso ideal é de 10512.3\n"
     ]
    }
   ],
   "source": [
    "#Tendo como dado de entrada a altura (h) de uma pessoa, construa um algoritmo que calcule seu peso ideal, utilizando as seguintes fórmulas:\n",
    "#Para homens: (72.7*h) - 58\n",
    "#Para mulheres: (62.1*h) - 44.7\n",
    "\n",
    "altura_geral = float(input(\"Insira aqui sua altura em metros: \"))\n",
    "\n",
    "homens_h = (72.7*altura_geral) - 58\n",
    "mulheres_h = (62.1*altura_geral) - 44.7\n",
    "\n",
    "print(\"Se você for homem seu peso ideal é de\", homens_h)\n",
    "print(\"Se você for mulher seu peso ideal é de\", mulheres_h)"
   ]
  },
  {
   "cell_type": "code",
   "execution_count": 10,
   "id": "05681ef5",
   "metadata": {},
   "outputs": [
    {
     "name": "stdout",
     "output_type": "stream",
     "text": [
      "Digite o peso de peixes pescados (em quilogramas): 90\n",
      "Peso de peixes: 90.0 kg\n",
      "Excesso: 40.0 kg\n",
      "Multa a pagar: R$ 160.0\n"
     ]
    }
   ],
   "source": [
    "#João Papo-de-Pescador, homem de bem, comprou um microcomputador para controlar o rendimento diário de seu trabalho. Toda vez que ele traz um peso de peixes maior que o estabelecido pelo regulamento de pesca do estado de São Paulo (50 quilos) deve pagar uma multa de R$ 4,00 por quilo excedente. João precisa que você faça um programa que leia a variável peso (peso de peixes) e calcule o excesso. Gravar na variável excesso a quantidade de quilos além do limite e na variável multa o valor da multa que João deverá pagar. Imprima os dados do programa com as mensagens adequadas.\n",
    "limite_peso = 50  # Limite de peso estabelecido pelo regulamento em quilogramas\n",
    "valor_multa_por_quilo = 4.00  # Valor da multa por quilo excedente em reais\n",
    "\n",
    "peso_peixes = float(input(\"Digite o peso de peixes pescados (em quilogramas): \"))\n",
    "\n",
    "if peso_peixes > limite_peso:\n",
    "    excesso = peso_peixes - limite_peso\n",
    "    multa = excesso * valor_multa_por_quilo\n",
    "else:\n",
    "    excesso = 0\n",
    "    multa = 0\n",
    "\n",
    "print(\"Peso de peixes:\", peso_peixes, \"kg\")\n",
    "if excesso > 0:\n",
    "    print(\"Excesso:\", excesso, \"kg\")\n",
    "    print(\"Multa a pagar: R$\", multa)\n",
    "else:\n",
    "    print(\"Não houve excesso de peso. Multa: R$ 0,00\")\n"
   ]
  },
  {
   "cell_type": "code",
   "execution_count": 11,
   "id": "e42bd436",
   "metadata": {},
   "outputs": [
    {
     "name": "stdout",
     "output_type": "stream",
     "text": [
      "Insira aqui quanto você ganha por hora trabalhadas: 990\n",
      "Insira aqui quanto você trabalhou durante este mes: 40\n",
      "Seu salário é de 324000.0\n",
      "a. Imposto de Renda é de 288360.0\n",
      "b. Seu INSS é de 298080.0\n",
      "c. O valor do sindicato é de 307800.0\n",
      "Seu salário líquido é de 246240.0\n"
     ]
    }
   ],
   "source": [
    "#Faça um Programa que pergunte quanto você ganha por hora e o número de horas trabalhadas no mês. \n",
    "#Calcule e mostre o total do seu salário no referido mês, \n",
    "#sabendo-se que são descontados 11% para o Imposto de Renda, 8% para o INSS e 5% para o sindicato, faça um programa que nos dê:salário bruto.\n",
    "#quanto pagou ao INSS.\n",
    "#quanto pagou ao sindicato.\n",
    "#o salário líquido.\n",
    "\n",
    "#IR = 0.11\n",
    "#INSS = 0.8 \n",
    "#Sindicato = 0.5\n",
    "\n",
    "\n",
    "#1º passo - Quanto ganha por hora \n",
    "horas_trabalhadas = float(input('Insira aqui quanto você ganha por hora trabalhadas: '))\n",
    "\n",
    " #2º passo - Numero de horas trabalhados no mes\n",
    "horas_trabalhadas_mes = float(input('Insira aqui quanto você trabalhou durante este mes: '))\n",
    "\n",
    "imposto_renda = salario_bruto * 0.11\n",
    "inss = salario_bruto * 0.08\n",
    "sindicato = salario_bruto * 0.05\n",
    "salario_liquido = salario_bruto - imposto_renda - inss - sindicato\n",
    "\n",
    "\n",
    "print(\"Seu salário é de\", salario_bruto)\n",
    "print(\"a. Imposto de Renda é de\", salario_bruto - imposto_renda)\n",
    "print(\"b. Seu INSS é de\", salario_bruto - inss)\n",
    "print(\"c. O valor do sindicato é de\", salario_bruto - sindicato)\n",
    "print(\"Seu salário líquido é de\", salario_liquido)"
   ]
  },
  {
   "cell_type": "code",
   "execution_count": 15,
   "id": "668d0a86",
   "metadata": {},
   "outputs": [
    {
     "name": "stdout",
     "output_type": "stream",
     "text": [
      "Digite aqui o tamanho do lado 1 que será pintado: 90\n",
      "Digite aqui o tamanho do lado 2 que será pintado: 40\n",
      "Quantidade de latas de tinta: 66.66666666666667\n",
      "Preço total: R$5333.33\n"
     ]
    }
   ],
   "source": [
    "#Faça um programa para uma loja de tintas. O programa deverá pedir o tamanho em metros quadrados da área a ser pintada. \n",
    "#Considere que a cobertura da tinta é de 1 litro para cada 3 metros quadrados e que a tinta é vendida em latas de 18 litros, que custam R$ 80,00. \n",
    "#Informe ao usuário a quantidades de latas de tinta a serem compradas e o preço total.\n",
    "\n",
    "#Primeiro passo - Achar a área.\n",
    "area1 = float(input(\"Digite aqui o tamanho do lado 1 que será pintado: \"))\n",
    "area2 = float(input(\"Digite aqui o tamanho do lado 2 que será pintado: \"))\n",
    "\n",
    "Area = area1 * area2\n",
    "\n",
    "#Segundo passo - Considerar a cobertura da tinta\n",
    "quant_tinta = Area / 3 / 18\n",
    "\n",
    "\n",
    "#Terceiro passo - preço total\n",
    "preco_total = quant_tinta * 80.00\n",
    "\n",
    "#Valor final\n",
    "\n",
    "print(f\"Quantidade de latas de tinta: {quant_tinta}\")\n",
    "print(f\"Preço total: R${preco_total:.2f}\")"
   ]
  },
  {
   "cell_type": "code",
   "execution_count": 1,
   "id": "dd5e487d",
   "metadata": {},
   "outputs": [
    {
     "name": "stdout",
     "output_type": "stream",
     "text": [
      "Informe o tamanho em metros quadrados da área a ser pintada: 60\n",
      "Quantidade de tinta a ser comprada:\n",
      "Apenas latas de 18 litros: 1 latas\n",
      "Preço: R$ 80.0\n",
      "\n",
      "Apenas galões de 3,6 litros: 3 galões\n",
      "Preço: R$ 75.0\n",
      "\n",
      "Misturando latas e galões:\n",
      "Latas de 18 litros: 0 latas\n",
      "Galões de 3,6 litros: 3 galões\n",
      "Preço: R$ 75.0\n"
     ]
    }
   ],
   "source": [
    "#Importando a função builtin do python. \n",
    "import math\n",
    "\n",
    "#Primeiro passo - Pedir que se insira o tamanho desejado. \n",
    "\n",
    "metros_quadrados = float(input(\"Informe o tamanho em metros quadrados da área a ser pintada: \"))\n",
    "\n",
    "# 1 litro de tinta para cada 6 metros quadrados\n",
    "litros_tinta = metros_quadrados / 6  \n",
    "\n",
    "# Comprar apenas latas de 18 litros - math.ceil arredonda para cima. \n",
    "latas_18l = math.ceil(litros_tinta / 18)  # Arredonda para cima, considerando latas cheias\n",
    "preco_latas_18l = latas_18l * 80.00\n",
    "\n",
    "# Comprar apenas galões de 3,6 litros - math.ceil arredonda para cima.\n",
    "galoes_3_6l = math.ceil(litros_tinta / 3.6)  # Arredonda para cima, considerando galões cheios\n",
    "preco_galoes_3_6l = galoes_3_6l * 25.00\n",
    "\n",
    "# Misturar latas e galões - math.floor arredonda para baixo.\n",
    "latas_18l_mistura = math.floor(litros_tinta / 18)  # Arredonda para baixo, considerando latas cheias\n",
    "resto_litros = litros_tinta % 18  # Litros restantes após a utilização das latas de 18 litros\n",
    "galoes_3_6l_mistura = math.ceil(resto_litros / 3.6)  # Arredonda para cima, considerando galões cheios\n",
    "preco_mistura = (latas_18l_mistura * 80.00) + (galoes_3_6l_mistura * 25.00)\n",
    "\n",
    "#Respostas\n",
    "\n",
    "print(\"Quantidade de tinta a ser comprada:\")\n",
    "print(\"Apenas latas de 18 litros:\", latas_18l, \"latas\")\n",
    "print(\"Preço: R$\", preco_latas_18l)\n",
    "print()\n",
    "print(\"Apenas galões de 3,6 litros:\", galoes_3_6l, \"galões\")\n",
    "print(\"Preço: R$\", preco_galoes_3_6l)\n",
    "print()\n",
    "print(\"Misturando latas e galões:\")\n",
    "print(\"Latas de 18 litros:\", latas_18l_mistura, \"latas\")\n",
    "print(\"Galões de 3,6 litros:\", galoes_3_6l_mistura, \"galões\")\n",
    "print(\"Preço: R$\", preco_mistura)\n"
   ]
  },
  {
   "cell_type": "code",
   "execution_count": 2,
   "id": "91ccc4bd",
   "metadata": {},
   "outputs": [
    {
     "name": "stdout",
     "output_type": "stream",
     "text": [
      "Informe o tamanho do arquivo para download (em MB): 90\n",
      "Informe a velocidade do link de Internet (em Mbps): 300\n",
      "O tempo aproximado de download do arquivo é de: 0.04 minutos\n"
     ]
    }
   ],
   "source": [
    "#Faça um programa que peça o tamanho de um arquivo para download (em MB) e a velocidade de um link de Internet (em Mbps)\n",
    "#calcule e informe o tempo aproximado de download do arquivo usando este link (em minutos).\n",
    "\n",
    "tamanho_arquivo_mb = float(input(\"Informe o tamanho do arquivo para download (em MB): \"))\n",
    "velocidade_internet_mbps = float(input(\"Informe a velocidade do link de Internet (em Mbps): \"))\n",
    "\n",
    "tamanho_arquivo_bits = tamanho_arquivo_mb * 8 * 1024 * 1024  # Convertendo de MB para bits\n",
    "tempo_download_segundos = tamanho_arquivo_bits / (velocidade_internet_mbps * 1024 * 1024)  # Convertendo de Mbps para bits e calculando o tempo em segundos\n",
    "tempo_download_minutos = tempo_download_segundos / 60  # Convertendo o tempo para minutos\n",
    "\n",
    "print(\"O tempo aproximado de download do arquivo é de:\", tempo_download_minutos, \"minutos\")\n"
   ]
  },
  {
   "cell_type": "code",
   "execution_count": null,
   "id": "80645842",
   "metadata": {},
   "outputs": [],
   "source": []
  }
 ],
 "metadata": {
  "kernelspec": {
   "display_name": "Python 3 (ipykernel)",
   "language": "python",
   "name": "python3"
  },
  "language_info": {
   "codemirror_mode": {
    "name": "ipython",
    "version": 3
   },
   "file_extension": ".py",
   "mimetype": "text/x-python",
   "name": "python",
   "nbconvert_exporter": "python",
   "pygments_lexer": "ipython3",
   "version": "3.9.13"
  }
 },
 "nbformat": 4,
 "nbformat_minor": 5
}
